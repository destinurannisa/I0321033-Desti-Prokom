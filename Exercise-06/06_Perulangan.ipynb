{
 "cells": [
  {
   "cell_type": "markdown",
   "metadata": {},
   "source": [
    "***\n",
    "<h1 align=\"center\">Exercise 06</h1>\n",
    " \n",
    "***\n",
    "## While Loop\n",
    "## Exercise 6.1\n",
    "isilah bagian rumpang berikut. xx diganti tanggal lahir dan yy diganti menjadi bulan lahir. tandanya menyesuaikan yang lebih besar."
   ]
  },
  {
   "cell_type": "code",
   "execution_count": 2,
   "metadata": {},
   "outputs": [
    {
     "name": "stdout",
     "output_type": "stream",
     "text": [
      "be the best\n",
      "be the best\n",
      "be the best\n",
      "be the best\n",
      "be the best\n",
      "be the best\n",
      "be the best\n",
      "be the best\n",
      "be the best\n",
      "be the best\n",
      "be the best\n",
      "be the best\n",
      "be the best\n",
      "be the best\n",
      "be the best\n",
      "be the best\n",
      "be the best\n"
     ]
    }
   ],
   "source": [
    "#menentukan banyak pengulangan\n",
    "n = 28\n",
    "\n",
    "#melakukan pengulangan\n",
    "i = 12\n",
    "\n",
    "while i <= n :\n",
    "    print (\"be the best\")\n",
    "    #diisi motto kalian\n",
    "    i = i + 1 # sesuaikan dengan atas agar fungsi perulangan dapat berhenti\n"
   ]
  },
  {
   "cell_type": "markdown",
   "metadata": {},
   "source": [
    "## Exercise 6.2\n",
    "\n",
    "Buatlah code seperti yang dicontohkan pada modul agar user dapat menginputkan sendiri jumlah n yang diinginkan"
   ]
  },
  {
   "cell_type": "code",
   "execution_count": 4,
   "metadata": {},
   "outputs": [
    {
     "name": "stdout",
     "output_type": "stream",
     "text": [
      "12\n",
      "13\n",
      "14\n",
      "15\n",
      "16\n",
      "17\n",
      "18\n",
      "19\n",
      "20\n",
      "21\n",
      "22\n",
      "23\n",
      "24\n",
      "25\n",
      "26\n",
      "27\n",
      "28\n"
     ]
    }
   ],
   "source": [
    "#Kerjakan disini\n",
    "n = int(input(\"input nilai n: \"))\n",
    "i = 12\n",
    "while i <= n :\n",
    "    print (i)\n",
    "    i = i + 1\n"
   ]
  },
  {
   "cell_type": "markdown",
   "metadata": {},
   "source": [
    "## Excercise 6.3\n",
    "\n",
    "isilah xx, yy, dan tanda rumpang seperti pada exercise 6.1\n"
   ]
  },
  {
   "cell_type": "code",
   "execution_count": 11,
   "metadata": {},
   "outputs": [
    {
     "name": "stdout",
     "output_type": "stream",
     "text": [
      "Baris ke-28 : be the best\n",
      "Baris ke-27 : be the best\n",
      "Baris ke-26 : be the best\n",
      "Baris ke-25 : be the best\n",
      "Baris ke-24 : be the best\n",
      "Baris ke-23 : be the best\n",
      "Baris ke-22 : be the best\n",
      "Baris ke-21 : be the best\n",
      "Baris ke-20 : be the best\n",
      "Baris ke-19 : be the best\n",
      "Baris ke-18 : be the best\n",
      "Baris ke-17 : be the best\n",
      "Baris ke-16 : be the best\n",
      "Baris ke-15 : be the best\n",
      "Baris ke-14 : be the best\n",
      "Baris ke-13 : be the best\n",
      "Baris ke-12 : be the best\n"
     ]
    }
   ],
   "source": [
    "#melakukan pengulangan\n",
    "i = 28\n",
    "\n",
    "while i >= 12 :\n",
    "    print (\"Baris ke-%d : be the best\"%i)\n",
    "    #isi titik-titik dengan judul film favorit kalian\n",
    "    i = i - 1 "
   ]
  },
  {
   "cell_type": "markdown",
   "metadata": {},
   "source": [
    "## FOR LOOP\n",
    "\n",
    "## Exercise 6.4\n",
    "\n",
    "munculkan 3 dari 7 elemen yang berada di dalam list1 dan list2\n"
   ]
  },
  {
   "cell_type": "code",
   "execution_count": 26,
   "metadata": {},
   "outputs": [
    {
     "name": "stdout",
     "output_type": "stream",
     "text": [
      "1 martabak Malang\n",
      "2 roti Bandung\n",
      "3 sate Jogja\n"
     ]
    }
   ],
   "source": [
    "list1 = ['martabak', 'roti', 'sate', 'ayam bakar', 'bakso', 'kwetiaw', 'sereal'] #masukkan 7 list makanan favorit kalian\n",
    "list2 = ['Malang', 'Bandung', 'Jogja', 'Solo', 'Bogor', 'Cilegon', 'Jakarta'] #masukkan 7 list kota favorit kalian\n",
    "\n",
    "for i in range(0,3) :\n",
    "    print(i+1, list1[i] , list2[i])\n",
    "    "
   ]
  },
  {
   "cell_type": "markdown",
   "metadata": {},
   "source": [
    "## Perulangan Bersarang\n",
    "\n",
    "## Exercise 6.5"
   ]
  },
  {
   "cell_type": "code",
   "execution_count": 31,
   "metadata": {},
   "outputs": [
    {
     "name": "stdout",
     "output_type": "stream",
     "text": [
      "784 \n",
      "756 729 \n",
      "728 702 676 \n",
      "700 675 650 625 \n",
      "672 648 624 600 576 \n",
      "644 621 598 575 552 529 \n",
      "616 594 572 550 528 506 484 \n",
      "588 567 546 525 504 483 462 441 \n",
      "560 540 520 500 480 460 440 420 400 \n",
      "532 513 494 475 456 437 418 399 380 361 \n",
      "504 486 468 450 432 414 396 378 360 342 324 \n",
      "476 459 442 425 408 391 374 357 340 323 306 289 \n",
      "448 432 416 400 384 368 352 336 320 304 288 272 256 \n",
      "420 405 390 375 360 345 330 315 300 285 270 255 240 225 \n",
      "392 378 364 350 336 322 308 294 280 266 252 238 224 210 196 \n",
      "364 351 338 325 312 299 286 273 260 247 234 221 208 195 182 169 \n",
      "336 324 312 300 288 276 264 252 240 228 216 204 192 180 168 156 144 \n"
     ]
    }
   ],
   "source": [
    "i = 28\n",
    "while i >= 12:\n",
    "    j = 28\n",
    "    while j>=i:\n",
    "        print(\"%d \" % (i*j), end = '')\n",
    "        j = j - 1\n",
    "    print()\n",
    "    i-=1"
   ]
  },
  {
   "cell_type": "markdown",
   "metadata": {},
   "source": [
    "## Pernyataan Loncat\n",
    "\n",
    "## Exercise 6.\n",
    "\n",
    "Buatlah fungsi berikut agar muncul angka hingga berhenti sesuai dengan nilai qq\n",
    "qq = angka favorit kalian\n",
    "pp>qq"
   ]
  },
  {
   "cell_type": "code",
   "execution_count": 32,
   "metadata": {},
   "outputs": [
    {
     "name": "stdout",
     "output_type": "stream",
     "text": [
      "0123456789101112"
     ]
    }
   ],
   "source": [
    "for i in range(28):\n",
    "    print(i,end='')\n",
    "    if i == 12:\n",
    "        break"
   ]
  },
  {
   "cell_type": "markdown",
   "metadata": {},
   "source": [
    "***\n",
    "<h1 align=\"center\">WELL DONE</h1>\n",
    " \n",
    "***"
   ]
  }
 ],
 "metadata": {
  "interpreter": {
   "hash": "cd08f94adcf3cbae37fe85286256f4c2a10455ca9094fd053e9f3d3f09647223"
  },
  "kernelspec": {
   "display_name": "Python 3.9.7 64-bit",
   "language": "python",
   "name": "python3"
  },
  "language_info": {
   "codemirror_mode": {
    "name": "ipython",
    "version": 3
   },
   "file_extension": ".py",
   "mimetype": "text/x-python",
   "name": "python",
   "nbconvert_exporter": "python",
   "pygments_lexer": "ipython3",
   "version": "3.9.12"
  },
  "orig_nbformat": 4
 },
 "nbformat": 4,
 "nbformat_minor": 2
}
