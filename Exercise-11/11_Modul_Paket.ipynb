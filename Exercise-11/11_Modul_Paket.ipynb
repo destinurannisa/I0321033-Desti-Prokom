{
 "cells": [
  {
   "cell_type": "markdown",
   "metadata": {},
   "source": [
    "***\n",
    "<h1 align=\"center\">Exercise 11</h1>\n",
    " \n",
    "***\n",
    "## Membuat Modul\n",
    "Silakan perhatikan file **Geometri2D** di ./data. \n",
    "Kemudian buatlah kode seperti berikut:\n",
    "\n",
    "![](./images/11_Geometri2D.png)\n"
   ]
  },
  {
   "cell_type": "markdown",
   "metadata": {},
   "source": [
    "## Perintah Import \n",
    "Buatlah kode seperti berikut:\n",
    "\n",
    "![](./images/11_Import.png)\n",
    "\n",
    "Ubah variabel **p** dengan **3 digit nim terakhir kalian** dan variabel **l** dengan **tanggal kalian mengerjakan**."
   ]
  },
  {
   "cell_type": "code",
   "execution_count": 1,
   "metadata": {},
   "outputs": [
    {
     "name": "stdout",
     "output_type": "stream",
     "text": [
      "Persegi Panjang\n",
      "Panjang\t\t: 33\n",
      "Lebar\t\t: 15\n",
      "Luas\t\t: 495\n",
      "Keliling\t: 96\n"
     ]
    }
   ],
   "source": [
    "from Data import Geometri2D\n",
    "p = 33\n",
    "l = 15\n",
    "\n",
    "luas = Geometri2D.LuasPersegiPanjang(p,l)\n",
    "kel = Geometri2D.KelilingPersegiPanjang(p,l)\n",
    "print(\"Persegi Panjang\")\n",
    "print(\"Panjang\\t\\t:\",p)\n",
    "print(\"Lebar\\t\\t:\",l)\n",
    "print(\"Luas\\t\\t:\", luas)\n",
    "print(\"Keliling\\t:\",kel)"
   ]
  },
  {
   "cell_type": "code",
   "execution_count": 2,
   "metadata": {},
   "outputs": [
    {
     "name": "stdout",
     "output_type": "stream",
     "text": [
      "Persegi Panjang\n",
      "Panjang\t\t: 33\n",
      "Lebar\t\t: 15\n",
      "Luas\t\t: 495\n",
      "Keliling\t: 96\n"
     ]
    }
   ],
   "source": [
    "# Kerjakan di sini\n",
    "from Data import Geometri2D\n",
    "p = 33\n",
    "l = 15\n",
    "\n",
    "luas = Geometri2D.LuasPersegiPanjang(p,l)\n",
    "kel = Geometri2D.KelilingPersegiPanjang(p,l)\n",
    "\n",
    "print(\"Persegi Panjang\")\n",
    "print(\"Panjang\\t\\t:\", p)\n",
    "print(\"Lebar\\t\\t:\", l)\n",
    "print(\"Luas\\t\\t:\", luas)\n",
    "print(\"Keliling\\t:\", kel)"
   ]
  },
  {
   "cell_type": "markdown",
   "metadata": {},
   "source": [
    "## Perintah From...Import \n",
    "Buatlah kode seperti berikut:\n",
    "\n",
    "![](./images/11_FromImport.png)\n",
    "\n",
    "Ubah variabel **p** dengan **3 digit nim terakhir kalian** dan variabel **l** dengan **tanggal kalian mengerjakan**."
   ]
  },
  {
   "cell_type": "code",
   "execution_count": 3,
   "metadata": {},
   "outputs": [
    {
     "name": "stdout",
     "output_type": "stream",
     "text": [
      "Persegi Panjang\n",
      "Panjang\t\t: 33\n",
      "Lebar\t\t: 15\n",
      "Luas\t\t: 495\n"
     ]
    }
   ],
   "source": [
    "# Kerjakan di sini\n",
    "from Data.Geometri2D import LuasPersegiPanjang\n",
    "p = 33\n",
    "l = 15\n",
    "\n",
    "luas = Geometri2D.LuasPersegiPanjang(p,l)\n",
    "\n",
    "print(\"Persegi Panjang\")\n",
    "print(\"Panjang\\t\\t:\",p)\n",
    "print(\"Lebar\\t\\t:\",l)\n",
    "print(\"Luas\\t\\t:\", luas)"
   ]
  },
  {
   "cell_type": "markdown",
   "metadata": {},
   "source": [
    "## Membuat Alias/Nama Lain Modul \n",
    "### 1. Nama Modul\n",
    "Buatlah kode seperti berikut:\n",
    "\n",
    "![](./images/11_Alias.png)\n",
    "\n",
    "Ubah variabel **p** dengan **3 digit nim terakhir kalian** dan variabel **l** dengan **tanggal kalian mengerjakan**."
   ]
  },
  {
   "cell_type": "code",
   "execution_count": 6,
   "metadata": {},
   "outputs": [
    {
     "name": "stdout",
     "output_type": "stream",
     "text": [
      "Persegi Panjang\n",
      "Panjang\t\t: 33\n",
      "Lebar\t\t: 15\n",
      "Luas\t\t: 495\n"
     ]
    }
   ],
   "source": [
    "# Kerjakan di sini\n",
    "from Data import Geometri2D as DuaD\n",
    "p = 33\n",
    "l = 15\n",
    "\n",
    "luas = DuaD.LuasPersegiPanjang(p,l)\n",
    "\n",
    "print(\"Persegi Panjang\")\n",
    "print(\"Panjang\\t\\t:\",p)\n",
    "print(\"Lebar\\t\\t:\",l)\n",
    "print(\"Luas\\t\\t:\", luas)"
   ]
  },
  {
   "cell_type": "markdown",
   "metadata": {},
   "source": [
    "### 2. Nama Fungsi\n",
    "Buatlah kode seperti berikut:\n",
    "\n",
    "![](./images/11_Alias2.png)\n",
    "\n",
    "Ubah variabel **p** dengan **3 digit nim terakhir kalian** dan variabel **l** dengan **tanggal kalian mengerjakan**."
   ]
  },
  {
   "cell_type": "code",
   "execution_count": 8,
   "metadata": {},
   "outputs": [
    {
     "name": "stdout",
     "output_type": "stream",
     "text": [
      "Persegi Panjang\n",
      "Panjang\t\t: 33\n",
      "Lebar\t\t: 15\n",
      "Luas\t\t: 495\n"
     ]
    }
   ],
   "source": [
    "# Kerjakan di sini\n",
    "from Data.Geometri2D import LuasPersegiPanjang as LPP\n",
    "p = 33\n",
    "l = 15\n",
    "\n",
    "luas = LPP(p,l)\n",
    "\n",
    "print(\"Persegi Panjang\")\n",
    "print(\"Panjang\\t\\t:\",p)\n",
    "print(\"Lebar\\t\\t:\",l)\n",
    "print(\"Luas\\t\\t:\", luas)"
   ]
  },
  {
   "cell_type": "markdown",
   "metadata": {},
   "source": [
    "## Membuat Paket \n",
    "Silakan perhatikan file **__init__.py** di ./Data.\n",
    "Kemudian isikan kode berikut ke dalam file **__init__.py**:\n",
    "\n",
    "![](./images/11_init.png)\n"
   ]
  },
  {
   "cell_type": "code",
   "execution_count": 15,
   "metadata": {},
   "outputs": [
    {
     "ename": "ImportError",
     "evalue": "attempted relative import with no known parent package",
     "output_type": "error",
     "traceback": [
      "\u001b[1;31m---------------------------------------------------------------------------\u001b[0m",
      "\u001b[1;31mImportError\u001b[0m                               Traceback (most recent call last)",
      "\u001b[1;32mc:\\Tugas Praktikum Prokom\\I0321033-Desti-Prokom\\Exercise-11\\11_Modul_Paket.ipynb Cell 12'\u001b[0m in \u001b[0;36m<cell line: 1>\u001b[1;34m()\u001b[0m\n\u001b[1;32m----> <a href='vscode-notebook-cell:/c%3A/Tugas%20Praktikum%20Prokom/I0321033-Desti-Prokom/Exercise-11/11_Modul_Paket.ipynb#ch0000014?line=0'>1</a>\u001b[0m \u001b[39mfrom\u001b[39;00m \u001b[39m.\u001b[39;00m \u001b[39mimport\u001b[39;00m Geometri2D\n",
      "\u001b[1;31mImportError\u001b[0m: attempted relative import with no known parent package"
     ]
    }
   ],
   "source": [
    "from . import Geometri2D"
   ]
  },
  {
   "cell_type": "markdown",
   "metadata": {},
   "source": [
    "## Menggunakan Paket\n",
    "Buatlah kode seperti berikut:\n",
    "\n",
    "![](./images/11_Paket.png)\n",
    "\n",
    "Ubah variabel **sisi** dengan **tanggal kalian mengerjakan**."
   ]
  },
  {
   "cell_type": "code",
   "execution_count": 13,
   "metadata": {},
   "outputs": [
    {
     "name": "stdout",
     "output_type": "stream",
     "text": [
      "Bujur Sangkar\n",
      "Panjang Sisi\t: 15\n",
      "Luas\t\t: 225\n"
     ]
    }
   ],
   "source": [
    "# Kerjakan di sini\n",
    "import Data.Geometri2D\n",
    "\n",
    "def main():\n",
    "    sisi = 15\n",
    "\n",
    "    luas = Data.Geometri2D.LuasBujurSangkar(sisi)\n",
    "\n",
    "    print(\"Bujur Sangkar\")\n",
    "    print(\"Panjang Sisi\\t:\",sisi)\n",
    "    print(\"Luas\\t\\t:\",luas)\n",
    "\n",
    "if __name__ == \"__main__\":\n",
    "    main()"
   ]
  },
  {
   "cell_type": "markdown",
   "metadata": {},
   "source": [
    "***\n",
    "<h1 align=\"center\">Well Done!!!</h1>\n",
    "\n",
    "***"
   ]
  }
 ],
 "metadata": {
  "interpreter": {
   "hash": "6689387f6646021bdc4a5692ed88c9f034336e7e4a14254b779609fcc32133a1"
  },
  "kernelspec": {
   "display_name": "Python 3.9.12 64-bit (windows store)",
   "language": "python",
   "name": "python3"
  },
  "language_info": {
   "codemirror_mode": {
    "name": "ipython",
    "version": 3
   },
   "file_extension": ".py",
   "mimetype": "text/x-python",
   "name": "python",
   "nbconvert_exporter": "python",
   "pygments_lexer": "ipython3",
   "version": "3.9.12"
  },
  "orig_nbformat": 4
 },
 "nbformat": 4,
 "nbformat_minor": 2
}
